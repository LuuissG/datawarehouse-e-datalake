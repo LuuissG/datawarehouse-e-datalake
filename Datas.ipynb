{
  "nbformat": 4,
  "nbformat_minor": 0,
  "metadata": {
    "colab": {
      "provenance": [],
      "authorship_tag": "ABX9TyNeylPqm8BY/Mb29QY1+bnX",
      "include_colab_link": true
    },
    "kernelspec": {
      "name": "python3",
      "display_name": "Python 3"
    },
    "language_info": {
      "name": "python"
    }
  },
  "cells": [
    {
      "cell_type": "markdown",
      "metadata": {
        "id": "view-in-github",
        "colab_type": "text"
      },
      "source": [
        "<a href=\"https://colab.research.google.com/github/LuuissG/datawarehouse-e-datalake/blob/main/Untitled1.ipynb\" target=\"_parent\"><img src=\"https://colab.research.google.com/assets/colab-badge.svg\" alt=\"Open In Colab\"/></a>"
      ]
    },
    {
      "cell_type": "markdown",
      "source": [
        "warehouse1"
      ],
      "metadata": {
        "id": "Dkfe5NJCOo7W"
      }
    },
    {
      "cell_type": "code",
      "execution_count": 1,
      "metadata": {
        "colab": {
          "base_uri": "https://localhost:8080/"
        },
        "id": "zfEWu5GdAlNj",
        "outputId": "de0ccd24-21f4-4d5d-b6a9-e536f6722ab8"
      },
      "outputs": [
        {
          "output_type": "stream",
          "name": "stdout",
          "text": [
            "Conteúdo do Data Warehouse\n",
            "           data  produto_id  quantidade  valor_total        nome   categoria\n",
            "0    2024-04-05         504         163         3649  Produto504  Eltrônicos\n",
            "1    2024-04-16         301         191         2695  Produto301      Roupas\n",
            "2    2024-04-23         301         183         3715  Produto301      Roupas\n",
            "3    2024-04-15         301         191         9572  Produto301      Roupas\n",
            "4    2024-04-03         301         159         6087  Produto301      Roupas\n",
            "..          ...         ...         ...          ...         ...         ...\n",
            "995  2024-04-16         148          56         1300  Produto148   Alimentos\n",
            "996  2024-04-12         503         112         6268  Produto503   Alimentos\n",
            "997  2024-04-25         533         158         3804  Produto533  Eltrônicos\n",
            "998  2024-04-09         101         108         2965  Produto101   Alimentos\n",
            "999  2024-04-05         212         102         3739  Produto212   Alimentos\n",
            "\n",
            "[1000 rows x 6 columns]\n"
          ]
        }
      ],
      "source": [
        "import pandas as pd\n",
        "import numpy as np\n",
        "\n",
        "# Número de produtos\n",
        "num_produtos = 600\n",
        "# Criando um dicionário de produtos com 'produto_id', 'nome' e 'categoria'\n",
        "produtos = {\n",
        "    'produto_id': range(1, num_produtos + 1),\n",
        "    'nome': [f'Produto{i}' for i in range(1, num_produtos + 1)],\n",
        "    'categoria': np.random.choice(['Eletrônicos', 'Roupas', 'Alimentos'], num_produtos)\n",
        "}\n",
        "\n",
        "# Criando um DataFrame com os dados dos produtos\n",
        "df_produtos = pd.DataFrame(produtos)\n",
        "\n",
        "# Número de vendas\n",
        "num_vendas = 1000\n",
        "# Criando um dicionário de vendas com 'data', 'produto_id', 'quantidade' e 'valor_total'\n",
        "data_vendas = {\n",
        "    'data': np.random.choice(pd.date_range('2024-04-01', periods=30), num_vendas),\n",
        "    'produto_id': np.random.randint(1, num_produtos + 1, num_vendas),\n",
        "    'quantidade': np.random.randint(50, 200, num_vendas),\n",
        "    'valor_total': np.random.randint(1000, 10000, num_vendas)\n",
        "}\n",
        "\n",
        "# Criando um DataFrame com os dados de vendas\n",
        "df_vendas = pd.DataFrame(data_vendas)\n",
        "\n",
        "# Salvando os DataFrames em arquivos CSV\n",
        "df_vendas.to_csv('vendas.csv', index=False)\n",
        "df_produtos.to_csv('produtos.csv', index=False)\n",
        "\n",
        "# Lendo os arquivos CSV recém-criados\n",
        "df_vendas = pd.read_csv('vendas.csv')\n",
        "df_produtos = pd.read_csv('produtos.csv')\n",
        "\n",
        "# Mesclando os DataFrames de vendas e produtos com base no 'produto_id'\n",
        "df_merge = pd.merge(df_vendas, df_produtos, on='produto_id', how='inner')\n",
        "\n",
        "# Salvando o resultado da mesclagem em um arquivo CSV, que representa o Data Warehouse\n",
        "df_merge.to_csv('data_warehouse.csv', index=False)\n",
        "\n",
        "# Lendo e exibindo o conteúdo do Data Warehouse\n",
        "df_warehouse = pd.read_csv('data_warehouse.csv')\n",
        "print(\"Conteúdo do Data Warehouse\")\n",
        "print(df_warehouse)\n",
        "\n"
      ]
    },
    {
      "cell_type": "markdown",
      "source": [
        "warehouse2\n"
      ],
      "metadata": {
        "id": "dq96fb6WO9og"
      }
    },
    {
      "cell_type": "code",
      "source": [
        "import pandas as pd\n",
        "import matplotlib.pyplot as plt\n",
        "\n",
        "# Lendo os dados do arquivo CSV e armazenando em um DataFrame\n",
        "df_warehouse = pd.read_csv('data_warehouse.csv')\n",
        "\n",
        "# Análise de vendas por produto\n",
        "vendas_por_produto = df_warehouse.groupby('nome')[['quantidade','valor_total']].sum()\n",
        "print(\"Análise de vendas por produto:\")\n",
        "print(vendas_por_produto)\n",
        "\n",
        "# Análise de vendas por categoria de produto\n",
        "vendas_por_categoria = df_warehouse.groupby('categoria')[['quantidade','valor_total']].sum()\n",
        "print(\"\\nAnálise de vendas por categoria de produto:\")\n",
        "print(vendas_por_categoria)\n",
        "\n",
        "# Convertendo a coluna 'data' para o tipo datetime\n",
        "df_warehouse['data'] = pd.to_datetime(df_warehouse['data'])\n",
        "\n",
        "# Análise de tendências temporais\n",
        "vendas_por_data = df_warehouse.groupby('data')[['quantidade', 'valor_total']].sum()\n",
        "print(\"\\nAnalise de tendencias temporais:\")\n",
        "print(vendas_por_data)\n",
        "\n",
        "# Plotagem do gráfico de vendas ao longo do tempo\n",
        "plt.figure(figsize=(10, 5))\n",
        "plt.plot(vendas_por_data.index, vendas_por_data['quantidade'], marker='o', linestyle='-')\n",
        "plt.title('vendas ao longo do tempo')\n",
        "plt.xlabel('Data')\n",
        "plt.ylabel('Quantidade vendida')\n",
        "plt.grid(True)\n",
        "plt.show()\n",
        "\n",
        "# Análise de desempenho de produtos\n",
        "desempenho_produto = df_warehouse.groupby('nome')['valor_total'].sum()\n",
        "print(\"\\nAnalise de desempenho de produtos:\")\n",
        "print(desempenho_produto)\n"
      ],
      "metadata": {
        "colab": {
          "base_uri": "https://localhost:8080/",
          "height": 1000
        },
        "id": "7Dh9ryWoBbkd",
        "outputId": "dcbb8d7d-9d94-4a38-82d9-c4f2a8e2a82b"
      },
      "execution_count": 4,
      "outputs": [
        {
          "output_type": "stream",
          "name": "stdout",
          "text": [
            "Análise de vendas por produto:\n",
            "            quantidade  valor_total\n",
            "nome                               \n",
            "Produto1           294        11276\n",
            "Produto10          168         4251\n",
            "Produto100         537        25486\n",
            "Produto101         108         2965\n",
            "Produto102         143         9081\n",
            "...                ...          ...\n",
            "Produto95          194        11473\n",
            "Produto96          140         1666\n",
            "Produto97          187         7288\n",
            "Produto98          511        19652\n",
            "Produto99          377         8482\n",
            "\n",
            "[495 rows x 2 columns]\n",
            "\n",
            "Análise de vendas por categoria de produto:\n",
            "            quantidade  valor_total\n",
            "categoria                          \n",
            "Alimentos        41363      1890262\n",
            "Eltrônicos       40199      1821874\n",
            "Roupas           42601      1907672\n",
            "\n",
            "Analise de tendencias temporais:\n",
            "            quantidade  valor_total\n",
            "data                               \n",
            "2024-04-01        3199       154243\n",
            "2024-04-02        4273       192534\n",
            "2024-04-03        5529       243339\n",
            "2024-04-04        3762       164956\n",
            "2024-04-05        4256       188528\n",
            "2024-04-06        4829       189994\n",
            "2024-04-07        5018       186186\n",
            "2024-04-08        3428       176103\n",
            "2024-04-09        3432       119736\n",
            "2024-04-10        3464       172986\n",
            "2024-04-11        4797       198260\n",
            "2024-04-12        3332       147792\n",
            "2024-04-13        4299       166842\n",
            "2024-04-14        3393       185006\n",
            "2024-04-15        3187       167983\n",
            "2024-04-16        4357       193833\n",
            "2024-04-17        4025       150166\n",
            "2024-04-18        3249       190509\n",
            "2024-04-19        4220       206423\n",
            "2024-04-20        4039       194405\n",
            "2024-04-21        4933       201467\n",
            "2024-04-22        3345       164763\n",
            "2024-04-23        4662       239127\n",
            "2024-04-24        5424       201613\n",
            "2024-04-25        4584       214269\n",
            "2024-04-26        4423       215916\n",
            "2024-04-27        3705       200603\n",
            "2024-04-28        4792       217024\n",
            "2024-04-29        3596       173243\n",
            "2024-04-30        4611       201959\n"
          ]
        },
        {
          "output_type": "display_data",
          "data": {
            "text/plain": [
              "<Figure size 1000x500 with 1 Axes>"
            ],
            "image/png": "[encoded data removed]"
          },
          "metadata": {}
        },
        {
          "output_type": "stream",
          "name": "stdout",
          "text": [
            "\n",
            "Analise de desempenho de produtos:\n",
            "nome\n",
            "Produto1      11276\n",
            "Produto10      4251\n",
            "Produto100    25486\n",
            "Produto101     2965\n",
            "Produto102     9081\n",
            "              ...  \n",
            "Produto95     11473\n",
            "Produto96      1666\n",
            "Produto97      7288\n",
            "Produto98     19652\n",
            "Produto99      8482\n",
            "Name: valor_total, Length: 495, dtype: int64\n"
          ]
        }
      ]
    },
    {
      "cell_type": "markdown",
      "source": [
        "datalake1\n"
      ],
      "metadata": {
        "id": "29VP_BkrPMkq"
      }
    },
    {
      "cell_type": "code",
      "source": [
        "import pandas as pd\n",
        "import numpy as np\n",
        "import os\n",
        "\n",
        "#se nao existir a pasta \"data lake\" criar a pasta\n",
        "if not os.path.exists('data_lake'):\n",
        "  os.makedirs('data_lake')\n",
        "\n",
        "#gerar 10 arquivos\n",
        "num_files = 10\n",
        "#cada arquivo tera 1000 linhas\n",
        "num_rows_per_file = 1000\n",
        "\n",
        "#lista para armazenas os arquivos e DataFrames\n",
        "dfs = []\n",
        "\n",
        "#Gera dados e salva em arquivos CSV\n",
        "for i in range(num_files):\n",
        "#gera dados aleatórios para cada arquivo\n",
        "  data = {\n",
        "      'coluna1': np.random.randint(0, 100, num_rows_per_file),\n",
        "      'coluna2': np.random.randn(num_rows_per_file),\n",
        "      'coluna3': np.random.choice(['A','B','C'], num_rows_per_file)\n",
        "  }\n",
        "#cria um dataframe a partir dos dados que foram gerados\n",
        "  df = pd.DataFrame(data)\n",
        "\n",
        "#define o nome do arquivo utilizando o número do loop\n",
        "  file_name = f'data_lake/dados_{i+1}.csv'\n",
        "\n",
        "  # Salva o DataFrame no arquivo CSV\n",
        "  df.to_csv(file_name, index=False)\n",
        "\n",
        "#adiciona o dataframe para lista \"dfs\"\n",
        "  dfs.append((file_name, df))\n",
        "\n",
        "#mensagem de geração correta\n",
        "print(\"Dados do Data Lake gerados com sucesso!\")\n",
        "\n",
        "#imprimi os cincos primeiros registros de cada dataframe\n",
        "for file_name, df in dfs:\n",
        "  print(f\"\\nDados do arquivo: {file_name}\\n\")\n",
        "  print(df.head())"
      ],
      "metadata": {
        "colab": {
          "base_uri": "https://localhost:8080/"
        },
        "id": "F12ODIVXFk8o",
        "outputId": "ea2e2c95-9a7d-4ddf-f3f3-862e113e089d"
      },
      "execution_count": 5,
      "outputs": [
        {
          "output_type": "stream",
          "name": "stdout",
          "text": [
            "Dados do Data Lake gerados com sucesso!\n",
            "\n",
            "Dados do arquivo: data_lake/dados_1.csv\n",
            "\n",
            "   coluna1   coluna2 coluna3\n",
            "0       97  0.243005       C\n",
            "1       26  1.808927       A\n",
            "2       42  1.069809       C\n",
            "3       85 -0.133928       A\n",
            "4       71  0.049712       A\n",
            "\n",
            "Dados do arquivo: data_lake/dados_2.csv\n",
            "\n",
            "   coluna1   coluna2 coluna3\n",
            "0       82  1.771332       A\n",
            "1       37  0.398444       A\n",
            "2       59  0.381327       A\n",
            "3       25  0.212567       A\n",
            "4       53 -0.903892       C\n",
            "\n",
            "Dados do arquivo: data_lake/dados_3.csv\n",
            "\n",
            "   coluna1   coluna2 coluna3\n",
            "0       58 -0.000787       C\n",
            "1       81  1.107676       A\n",
            "2       32  2.234729       B\n",
            "3       28 -0.526684       A\n",
            "4       27 -1.205586       C\n",
            "\n",
            "Dados do arquivo: data_lake/dados_4.csv\n",
            "\n",
            "   coluna1   coluna2 coluna3\n",
            "0        2  0.424821       C\n",
            "1       11  1.387583       A\n",
            "2       70 -0.521091       B\n",
            "3       60 -1.708736       C\n",
            "4       65 -1.292222       A\n",
            "\n",
            "Dados do arquivo: data_lake/dados_5.csv\n",
            "\n",
            "   coluna1   coluna2 coluna3\n",
            "0       21  0.289214       A\n",
            "1       79  0.966070       C\n",
            "2       67 -0.364973       C\n",
            "3       78 -0.838061       C\n",
            "4       56 -1.324307       A\n",
            "\n",
            "Dados do arquivo: data_lake/dados_6.csv\n",
            "\n",
            "   coluna1   coluna2 coluna3\n",
            "0       72  0.490979       C\n",
            "1       69  1.530996       A\n",
            "2       20 -0.152374       A\n",
            "3        6 -1.721564       A\n",
            "4       57  0.084215       A\n",
            "\n",
            "Dados do arquivo: data_lake/dados_7.csv\n",
            "\n",
            "   coluna1   coluna2 coluna3\n",
            "0       32 -0.052986       C\n",
            "1        4  0.455702       B\n",
            "2       42 -1.922812       A\n",
            "3       36 -2.099967       A\n",
            "4       25 -1.132894       A\n",
            "\n",
            "Dados do arquivo: data_lake/dados_8.csv\n",
            "\n",
            "   coluna1   coluna2 coluna3\n",
            "0       64  0.963883       B\n",
            "1       61 -0.806531       A\n",
            "2       15  0.067562       A\n",
            "3       98 -2.712373       C\n",
            "4       59  1.180415       C\n",
            "\n",
            "Dados do arquivo: data_lake/dados_9.csv\n",
            "\n",
            "   coluna1   coluna2 coluna3\n",
            "0       39 -2.077477       A\n",
            "1       70  0.041757       B\n",
            "2       21 -1.541265       B\n",
            "3        3  1.369674       A\n",
            "4       24 -0.499412       A\n",
            "\n",
            "Dados do arquivo: data_lake/dados_10.csv\n",
            "\n",
            "   coluna1   coluna2 coluna3\n",
            "0       92  0.538710       A\n",
            "1       62 -1.659004       A\n",
            "2       12 -0.064633       B\n",
            "3       12  2.050028       C\n",
            "4       30  1.395806       B\n"
          ]
        }
      ]
    },
    {
      "cell_type": "code",
      "source": [
        "import pandas as pd\n",
        "import matplotlib.pyplot as plt\n",
        "import seaborn as sns\n",
        "from sqlalchemy import create_engine\n",
        "\n",
        "# Criando uma conexão com o banco de dados SQLite\n",
        "conn_string = 'sqlite:///data_lake.db'\n",
        "engine = create_engine(conn_string)\n",
        "\n",
        "# Nome da tabela a ser lida\n",
        "table_name = 'dados_1'\n",
        "# Lendo os dados da tabela para um DataFrame\n",
        "df = pd.read_sql_table(table_name, engine)\n",
        "\n",
        "# Exibindo as primeiras linhas do DataFrame\n",
        "print(\"Primeiras linhas do Data Frame:\")\n",
        "print(df.head())\n",
        "\n",
        "# Exibindo informações sobre o DataFrame (tipo de dados, número de entradas, etc.)\n",
        "print(\"\\nInformações sobre o Data Frame:\")\n",
        "print(df.info())\n",
        "\n",
        "# Exibindo um resumo estatístico do DataFrame (média, desvio padrão, quartis, etc.)\n",
        "print(\"\\n Resumo estatístico do Data Frame:\")\n",
        "print(df.describe())\n",
        "\n",
        "# Plotando um gráfico de dispersão entre coluna1 e coluna2 usando seaborn\n",
        "plt.figure(figsize=(8, 6))\n",
        "sns.scatterplot(x='coluna1', y='coluna2', data=df)\n",
        "plt.title('Grafico de Dispersão entre coluna1 e coluna2')\n",
        "plt.xlabel('coluna1')\n",
        "plt.ylabel('coluna2')\n",
        "plt.grid(True)\n",
        "plt.show()\n",
        "\n",
        "# Plotando um histograma da coluna1 usando seaborn\n",
        "plt.figure(figsize=(8, 6))\n",
        "sns.histplot(x='coluna1', data=df, bins=20, kde=True)\n",
        "plt.title('Histograma da coluna1')\n",
        "plt.xlabel('coluna1')\n",
        "plt.ylabel('Frequência')\n",
        "plt.grid(True)\n",
        "plt.show()\n",
        "\n",
        "# Plotando um boxplot da coluna3 em relação à coluna1 usando seaborn\n",
        "plt.figure(figsize=(8, 6))\n",
        "sns.boxplot(x='coluna3', y='coluna1', data=df)\n",
        "plt.title('Boxplot da coluna3 em relação à coluna1')\n",
        "plt.xlabel('coluna3')\n",
        "plt.ylabel('coluna1')\n",
        "plt.grid(True)\n",
        "plt.show()\n"
      ],
      "metadata": {
        "colab": {
          "base_uri": "https://localhost:8080/",
          "height": 349
        },
        "id": "4b56gfNRP68k",
        "outputId": "4e97a9de-09ae-4c20-8f9c-d36dd2a23b56"
      },
      "execution_count": 8,
      "outputs": [
        {
          "output_type": "error",
          "ename": "ValueError",
          "evalue": "Table dados_1 not found",
          "traceback": [
            "\u001b[0;31m---------------------------------------------------------------------------\u001b[0m",
            "\u001b[0;31mValueError\u001b[0m                                Traceback (most recent call last)",
            "\u001b[0;32m<ipython-input-8-2890d08c410b>\u001b[0m in \u001b[0;36m<cell line: 10>\u001b[0;34m()\u001b[0m\n\u001b[1;32m      8\u001b[0m \u001b[0;34m\u001b[0m\u001b[0m\n\u001b[1;32m      9\u001b[0m \u001b[0mtable_name\u001b[0m \u001b[0;34m=\u001b[0m \u001b[0;34m'dados_1'\u001b[0m\u001b[0;34m\u001b[0m\u001b[0;34m\u001b[0m\u001b[0m\n\u001b[0;32m---> 10\u001b[0;31m \u001b[0mdf\u001b[0m \u001b[0;34m=\u001b[0m \u001b[0mpd\u001b[0m\u001b[0;34m.\u001b[0m\u001b[0mread_sql_table\u001b[0m\u001b[0;34m(\u001b[0m\u001b[0mtable_name\u001b[0m\u001b[0;34m,\u001b[0m \u001b[0mengine\u001b[0m\u001b[0;34m)\u001b[0m\u001b[0;34m\u001b[0m\u001b[0;34m\u001b[0m\u001b[0m\n\u001b[0m\u001b[1;32m     11\u001b[0m \u001b[0;34m\u001b[0m\u001b[0m\n\u001b[1;32m     12\u001b[0m \u001b[0mprint\u001b[0m\u001b[0;34m(\u001b[0m\u001b[0;34m\"Primeiras linhas do Data Frame:\"\u001b[0m\u001b[0;34m)\u001b[0m\u001b[0;34m\u001b[0m\u001b[0;34m\u001b[0m\u001b[0m\n",
            "\u001b[0;32m/usr/local/lib/python3.10/dist-packages/pandas/io/sql.py\u001b[0m in \u001b[0;36mread_sql_table\u001b[0;34m(table_name, con, schema, index_col, coerce_float, parse_dates, columns, chunksize, dtype_backend)\u001b[0m\n\u001b[1;32m    336\u001b[0m     \u001b[0;32mwith\u001b[0m \u001b[0mpandasSQL_builder\u001b[0m\u001b[0;34m(\u001b[0m\u001b[0mcon\u001b[0m\u001b[0;34m,\u001b[0m \u001b[0mschema\u001b[0m\u001b[0;34m=\u001b[0m\u001b[0mschema\u001b[0m\u001b[0;34m,\u001b[0m \u001b[0mneed_transaction\u001b[0m\u001b[0;34m=\u001b[0m\u001b[0;32mTrue\u001b[0m\u001b[0;34m)\u001b[0m \u001b[0;32mas\u001b[0m \u001b[0mpandas_sql\u001b[0m\u001b[0;34m:\u001b[0m\u001b[0;34m\u001b[0m\u001b[0;34m\u001b[0m\u001b[0m\n\u001b[1;32m    337\u001b[0m         \u001b[0;32mif\u001b[0m \u001b[0;32mnot\u001b[0m \u001b[0mpandas_sql\u001b[0m\u001b[0;34m.\u001b[0m\u001b[0mhas_table\u001b[0m\u001b[0;34m(\u001b[0m\u001b[0mtable_name\u001b[0m\u001b[0;34m)\u001b[0m\u001b[0;34m:\u001b[0m\u001b[0;34m\u001b[0m\u001b[0;34m\u001b[0m\u001b[0m\n\u001b[0;32m--> 338\u001b[0;31m             \u001b[0;32mraise\u001b[0m \u001b[0mValueError\u001b[0m\u001b[0;34m(\u001b[0m\u001b[0;34mf\"Table {table_name} not found\"\u001b[0m\u001b[0;34m)\u001b[0m\u001b[0;34m\u001b[0m\u001b[0;34m\u001b[0m\u001b[0m\n\u001b[0m\u001b[1;32m    339\u001b[0m \u001b[0;34m\u001b[0m\u001b[0m\n\u001b[1;32m    340\u001b[0m         table = pandas_sql.read_table(\n",
            "\u001b[0;31mValueError\u001b[0m: Table dados_1 not found"
          ]
        }
      ]
    },
    {
      "cell_type": "code",
      "source": [],
      "metadata": {
        "id": "Qom9aR63Q57X"
      },
      "execution_count": null,
      "outputs": []
    }
  ]
}
